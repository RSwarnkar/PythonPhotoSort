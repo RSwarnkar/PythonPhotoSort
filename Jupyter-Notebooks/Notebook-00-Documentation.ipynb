{
 "cells": [
  {
   "cell_type": "markdown",
   "id": "8f3df258-3a30-4b43-9529-9f56f3026c57",
   "metadata": {},
   "source": [
    "# Documentation `PythonPhotoSort` \n",
    "> Author: __Rajesh Swarnkar__\n",
    "> \n",
    "> Last updated: __2024-May-19__"
   ]
  },
  {
   "cell_type": "markdown",
   "id": "920f40de-6f9c-44f0-802c-3b35286ca5ce",
   "metadata": {},
   "source": [
    "## 1.1 Probelm definition: \n",
    "Its cumbersome to manually sort photos and videos captured by camera.\n",
    "One of the simple sorting we could apply is to simply sort the photos and videos by dates.\n",
    "Advantage of arranging the photos/videos allows us to look back on specific dates and get all the captures done on that date in one place.\n",
    "Later, we can also delete some of them not required.   \n",
    "\n",
    "Idea is arrange photos in this sub-folder arrangement: \n",
    "\n",
    "```\n",
    "Destination Directory\n",
    "|\n",
    "|\n",
    "|___YYYY\n",
    "     |\n",
    "     |___YYYY-MONTHNAME\n",
    "         |\n",
    "\t     |\n",
    "\t     |___YYYY-MM-DD\n",
    "             |\n",
    "             |__ *.{jpg, jpeg, png ...}\n",
    "             |__ *.{video files}\n",
    "             |__ <other file extensions>\n",
    "\n",
    "```\n",
    "\n",
    "Donen \n",
    "\n",
    "\n"
   ]
  },
  {
   "cell_type": "markdown",
   "id": "7aeb2a35-2e0c-401b-a6f0-3b832eb2542d",
   "metadata": {},
   "source": [
    "## 1.2 Various File extensions: \n",
    "\n",
    "| Photos | .jpg, .jpeg                                     |\n",
    "|--------|-------------------------------------------------|\n",
    "| Video  | .mp4, .MOV, .avi, .h264, .VOB, .3gpp            |\n",
    "| Audio  | .m4a, .mpa, .opus, .amr, .3gp, .aac, .mp3, .wav |\n",
    "| Images | .bmp, .png, .gif                                |\n",
    "| Other  | .txt, .ini, .html, .db, .kmz                    |\n",
    "\n",
    "**NOTE**: **_This program will only focus on photos with {.jpg, .jpeg} extension and videos with {.mp4} extension._**"
   ]
  },
  {
   "cell_type": "markdown",
   "id": "769d5ec6-3594-4885-a815-c24c6109951f",
   "metadata": {},
   "source": [
    "\n",
    "## 1.3 Challenges / Concerns:\n",
    "\n",
    "* Manually sorting (copy-paste) different file fomarts is cumbersome\n",
    "* There will be photos, videos, audios and other file extensions\n",
    "* Duplicate Files may be there on copy pasting the files in a location\n",
    "* Gathering file infomration is important to know how many files exist and their various extension types\n",
    "* The File names not recognisable to Regular Expression\n",
    "\n",
    "## 1.4 Assumptions: \n",
    "\n",
    "* Photos and videos has some DATE STRING in the file names in the format of YYYYMMDD: e.g. 20240314 viz., 14-March-2023.  \n",
    "\n"
   ]
  },
  {
   "cell_type": "markdown",
   "id": "c2d64e95-97eb-4511-85d2-6148ad4f577d",
   "metadata": {},
   "source": [
    "## 2.1 Algorithm:\n",
    "\n",
    "```\n",
    "1. Picture Files:\n",
    "\n",
    "   1.1 Is a file with extension: {.jpg, .jpeg}   \n",
    "   1.2 File name conatins Timestamps and confirms to specific Regular Expression?\n",
    "       Both Yes: Move file to destination folder\n",
    "       \n",
    "   \n",
    "   1.3 If above contidions are not met then it means that\n",
    "       1.3.1 File name does not have a convetion \n",
    "       1.3.2 File extension is not .jpg or .jpeg (separate processing)\n",
    "\n",
    "   1.4 Log the info about file movement or skip  \n",
    "    \n",
    "2. Video Files: \n",
    "\n",
    "   2.1 Is a file with proper extensions {.mp4, .mov}\n",
    "   2.2 File name conatins Timestamps and confirms to specific Regular Expression\n",
    "       Both Yes: Move file to destination folder\n",
    "\n",
    "   2.3 If above contidions are not met then it means that\n",
    "       2.3.1 File name does not have a convetion \n",
    "       2.3.2 File extension is not {.mp4, .mov}\n",
    "   \n",
    "   2.4 Log the info about file movement or skip  \n",
    "\n",
    "3. For the rest of the file extension, this program does not handles those.\n",
    "   And its assumed that those should be handled manually.\n",
    "\n",
    "   "
   ]
  },
  {
   "cell_type": "markdown",
   "id": "7d166f8a-fd43-4e7a-99b3-06fbb2db2032",
   "metadata": {},
   "source": [
    "## 2.2 Handling Duplicate Files: \n",
    "\n",
    "* If the destination folder contains file with same name, then it should be handled appropriately.\n",
    "* In this case, files CAN be renamed with a random string appended at the end for the sake of uniqueness. \n",
    "* And a log entry should me made indicating a duplicate entry. "
   ]
  },
  {
   "cell_type": "markdown",
   "id": "8ffcea7d-b885-40b8-99c3-ad4851049207",
   "metadata": {},
   "source": [
    "## 2.3 Manual Pre-Processing: \n",
    "\n",
    "Some pre-processing required: \n",
    "\n",
    "* Its good idea to manually view all the photos in destination folder and delete them quickly\n",
    "* This will help save effort on manual navigation post-processing\n",
    "* This will be like filtering the garbage before process and delete some garbage photos. \n",
    "\n",
    "## 2.4 Manual Post-Processing: \n",
    "\n",
    "Some post-processing required: \n",
    "\n",
    "* Check the log for the files with extension which were note processed\n",
    "* Check log with duplicate files. Need to manually open both files and check them And if required delete them. "
   ]
  },
  {
   "cell_type": "markdown",
   "id": "b4563d6e-44c5-4b81-99e8-b7597cd73b7f",
   "metadata": {},
   "source": [
    "## 2 . Packages Required: \n"
   ]
  },
  {
   "cell_type": "markdown",
   "id": "b3c29243-ae6c-42e2-98d5-0f9c0dc97a42",
   "metadata": {},
   "source": [
    "## 3. Instruction for using:  "
   ]
  },
  {
   "cell_type": "code",
   "execution_count": null,
   "id": "a57fcba2-6dfe-48bb-9610-724b1250cdfb",
   "metadata": {},
   "outputs": [],
   "source": [
    "\n",
    "IMG_20150310_212211165.jpg\n",
    "IMG_20150829_141244.jpg\n",
    " \n",
    "^[iImMgG]{3}[-_]([0-9]{8})[-_]([0-9]{6,}).*\\.(?:jpg|jpeg)$\n",
    "\n",
    "\n",
    "^[iImMgG]{3}[-_]([0-9]{8})[-_].*\\.(?:jpg|jpeg)$"
   ]
  }
 ],
 "metadata": {
  "kernelspec": {
   "display_name": "Python 3 (ipykernel)",
   "language": "python",
   "name": "python3"
  },
  "language_info": {
   "codemirror_mode": {
    "name": "ipython",
    "version": 3
   },
   "file_extension": ".py",
   "mimetype": "text/x-python",
   "name": "python",
   "nbconvert_exporter": "python",
   "pygments_lexer": "ipython3",
   "version": "3.11.4"
  }
 },
 "nbformat": 4,
 "nbformat_minor": 5
}
