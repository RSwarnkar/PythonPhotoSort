{
 "cells": [
  {
   "cell_type": "markdown",
   "id": "897e70ba-6875-42f0-a2b3-9c565ce33088",
   "metadata": {},
   "source": [
    "# 1. Gathering Information about the files in source folder:\n",
    "\n",
    "Blow Info is displayed after gathering the details from the `source-dir`\n",
    "* List total number of files \n",
    "* List of all File Formats\n",
    "* Check if it matches the MASTER_REGEX \n",
    "\n",
    "Information is also logged inside a csv file named `info-ddmmyy-hhmmss.csv` after information is gathered about the `source-dir`"
   ]
  },
  {
   "cell_type": "markdown",
   "id": "0915797e-f98e-416b-869b-97f939b79d47",
   "metadata": {},
   "source": [
    "## [1.1] Get `configs.ini` : "
   ]
  },
  {
   "cell_type": "code",
   "execution_count": 1,
   "id": "7e77170a-61d2-49c7-8d97-79d0f2ae5ffd",
   "metadata": {},
   "outputs": [],
   "source": [
    "# https://stackoverflow.com/questions/8884188/how-to-read-and-write-ini-file-with-python3\n",
    "import configparser\n",
    "config = configparser.ConfigParser()"
   ]
  },
  {
   "cell_type": "code",
   "execution_count": 2,
   "id": "802c1e03-0c5a-471f-8699-34638cb25fc7",
   "metadata": {},
   "outputs": [],
   "source": [
    "config.read('configs.ini')\n",
    "source_dir      = config['INFO']['source_dir']\n",
    "destination_dir = config['INFO']['destination_dir'] \n",
    "info_dir        = config['INFO']['info_dir'] \n",
    "\n",
    "MASTER_REGEX_PHOTOS_1 = config['NOEDIT']['MASTER_REGEX_PHOTOS_1'] \n",
    "MASTER_REGEX_PHOTOS_2 = config['NOEDIT']['MASTER_REGEX_PHOTOS_2'] \n",
    "MASTER_REGEX_VIDEOS_1 = config['NOEDIT']['MASTER_REGEX_VIDEOS_1'] \n",
    "MASTER_REGEX_VIDEOS_2 = config['NOEDIT']['MASTER_REGEX_VIDEOS_2'] \n"
   ]
  },
  {
   "cell_type": "code",
   "execution_count": 3,
   "id": "29b2f456-51fe-4ed6-8196-9b6e0e378e0e",
   "metadata": {},
   "outputs": [
    {
     "name": "stdout",
     "output_type": "stream",
     "text": [
      "Source Directory:  E:/R_PhotosVideos/R_Photos_Unsorted/Plain-11\n",
      "Destionation Directory:  E:/R_PhotosVideos/R_Photos_Sorted\n",
      "Log Info Directory:  E:/R_PhotosVideos/PythonPhotoSort/logs\n"
     ]
    }
   ],
   "source": [
    "print(\"Source Directory: \",source_dir)\n",
    "print(\"Destionation Directory: \",destination_dir)\n",
    "print(\"Log Info Directory: \",info_dir)"
   ]
  },
  {
   "cell_type": "code",
   "execution_count": 4,
   "id": "0dcf0975-fed3-46f0-b1a2-cba35deb7b53",
   "metadata": {},
   "outputs": [
    {
     "name": "stdout",
     "output_type": "stream",
     "text": [
      "MASTER_REGEX_PHOTOS_1 :  ^[iImMgG]{3}[-_]([0-9]{8})[-_].*\\.(?:jpg|jpeg)$\n",
      "MASTER_REGEX_PHOTOS_2 :  ^[iImMgG]{3}([0-9]{8}).*\\.(?:jpg|jpeg)$\n",
      "MASTER_REGEX_VIDEOS_1 :  ^[VvIiDdvideo]{3,}[-_]([0-9]{8})[-_].*\\.(?:mp4)$\n",
      "MASTER_REGEX_VIDEOS_2 :  ^[VvIiDd]{3}([0-9]{8}).*\\.(?:mp4)$\n"
     ]
    }
   ],
   "source": [
    "print(\"MASTER_REGEX_PHOTOS_1 : \",MASTER_REGEX_PHOTOS_1)\n",
    "print(\"MASTER_REGEX_PHOTOS_2 : \",MASTER_REGEX_PHOTOS_2)\n",
    "print(\"MASTER_REGEX_VIDEOS_1 : \",MASTER_REGEX_VIDEOS_1)\n",
    "print(\"MASTER_REGEX_VIDEOS_2 : \",MASTER_REGEX_VIDEOS_2)"
   ]
  },
  {
   "cell_type": "markdown",
   "id": "c7e41917-5700-46d0-a8c5-185f3446898a",
   "metadata": {},
   "source": [
    "## [1.2] Loop through folder and fetch info: \n"
   ]
  },
  {
   "cell_type": "code",
   "execution_count": 5,
   "id": "db80a44c-6ff0-4cb1-afea-d30b173b0984",
   "metadata": {},
   "outputs": [],
   "source": [
    "import re\n",
    "import os\n",
    "from datetime import datetime\n",
    "import shutil"
   ]
  },
  {
   "cell_type": "code",
   "execution_count": 6,
   "id": "8a36bfea-ab5a-471a-971d-9be860bbfb4a",
   "metadata": {},
   "outputs": [],
   "source": [
    "input_folder_path  = source_dir\n",
    "output_folder_path = destination_dir\n"
   ]
  },
  {
   "cell_type": "code",
   "execution_count": 7,
   "id": "0cfe7b56-ea98-442a-8fdc-9e466d6261da",
   "metadata": {},
   "outputs": [
    {
     "name": "stdout",
     "output_type": "stream",
     "text": [
      "Info CSV File:  E:/R_PhotosVideos/PythonPhotoSort/logs\\info-20240519-154135.csv\n"
     ]
    }
   ],
   "source": [
    "# Log file name \n",
    "temp      = \"info-\" + datetime.now().strftime(\"%Y%m%d-%H%M%S\") + \".csv\"\n",
    "csv_file  = os.path.join(info_dir, temp)\n",
    "print(\"Info CSV File: \", csv_file) "
   ]
  },
  {
   "cell_type": "code",
   "execution_count": 8,
   "id": "efcb1e1f-5b85-4d54-b0e1-c32759dd10b5",
   "metadata": {},
   "outputs": [],
   "source": [
    "FILE_COUNT = 0\n",
    "FILE_EXT_LIST = set([])\n",
    "FILE_EXT_COUNTER = []"
   ]
  },
  {
   "cell_type": "code",
   "execution_count": 9,
   "id": "4c65f62a-7c0d-4bbf-b5ed-7582336c0bb4",
   "metadata": {},
   "outputs": [
    {
     "name": "stdout",
     "output_type": "stream",
     "text": [
      "\n"
     ]
    }
   ],
   "source": [
    "csvfile_handle = open(csv_file, \"w\", encoding=\"utf-8\")\n",
    "csvfile_handle.write(\"Filename;Extension;Matched_Regex_Name;Extracted_Date;Path;Null\\n\")\n",
    "print()"
   ]
  },
  {
   "cell_type": "code",
   "execution_count": 10,
   "id": "931d3cd9-dc40-4101-9d1c-e35b8ca40a51",
   "metadata": {},
   "outputs": [],
   "source": [
    "src = input_folder_path\n",
    "dst = output_folder_path\n",
    "\n",
    "# OS.walk() generate the file names in a directory tree (nested subfolders) by walking the tree either top-down or bottom-up.\n",
    "for root, subdirs, files in os.walk(src):\n",
    "    for file in files:\n",
    "        path = os.path.join(root, file)\n",
    "        \n",
    "        _filenameonly = file   # e.g. IMG_20150829_141244.jpg\n",
    "        _extension = os.path.splitext(file)[1] # e.g. jpg\n",
    "\n",
    "        matched_regex_name = \"None\"\n",
    "        _extracted_ts      = \"Null\" # extracted timestamp \n",
    "\n",
    "        ## Try matching against each regex listed in config.ini\n",
    "\n",
    "        m1 = re.search(r'{}'.format(MASTER_REGEX_PHOTOS_1), file)\n",
    "        if m1: \n",
    "            _extracted_ts = m1.group(1)\n",
    "            matched_regex_name = \"MASTER_REGEX_PHOTOS_1\"\n",
    "            \n",
    "        m2 = re.search(r'{}'.format(MASTER_REGEX_PHOTOS_2), file)\n",
    "        if m2: \n",
    "            _extracted_ts = m2.group(1)\n",
    "            matched_regex_name = \"MASTER_REGEX_PHOTOS_2\"\n",
    "\n",
    "        m3 = re.search(r'{}'.format(MASTER_REGEX_VIDEOS_1), file)\n",
    "        if m3: \n",
    "            _extracted_ts = m3.group(1)\n",
    "            matched_regex_name = \"MASTER_REGEX_VIDEOS_1\"\n",
    "\n",
    "        m4 = re.search(r'{}'.format(MASTER_REGEX_VIDEOS_2), file)\n",
    "        if m4: \n",
    "            _extracted_ts = m4.group(1)\n",
    "            matched_regex_name = \"MASTER_REGEX_VIDEOS_2\"\n",
    "\n",
    "        \n",
    "            \n",
    "        _fullfilepath = path   # e.g. H:/myfolder/IMG_20150829_141244.jpg\n",
    " \n",
    "        #  Filename;Extension;Matched_Regex_Name;Extracted_Date;Path;Null\\n\n",
    "        csv_line = _filenameonly + \";\" + _extension + \";\" + matched_regex_name + \";\" + \\\n",
    "                  _extracted_ts + \";\" + _fullfilepath + \";NOTHING;\\n\"\n",
    "        \n",
    "        csvfile_handle.write(csv_line)\n",
    "        \n",
    "        # Increment File Count\n",
    "        FILE_COUNT = FILE_COUNT+ 1\n",
    "        # Add file extension to set\n",
    "        FILE_EXT_LIST.add(_extension)\n",
    "        # Group counter\n",
    "        FILE_EXT_COUNTER.append(_extension)\n",
    " \n",
    "\n",
    "csvfile_handle.close()"
   ]
  },
  {
   "cell_type": "markdown",
   "id": "31f37d89-f6d6-4f3d-bb81-e9f7ba43a11b",
   "metadata": {},
   "source": [
    "## [1.3] Print Info: "
   ]
  },
  {
   "cell_type": "code",
   "execution_count": 11,
   "id": "83ecacf1-386b-4fc1-a0b5-81b7d985c054",
   "metadata": {},
   "outputs": [
    {
     "name": "stdout",
     "output_type": "stream",
     "text": [
      "Number of files:  189\n",
      "List of file extensions:  {'.jpg', '.mp4'}\n",
      "Info written to CSV File :  E:/R_PhotosVideos/PythonPhotoSort/logs\\info-20240519-154135.csv\n"
     ]
    }
   ],
   "source": [
    "print(\"Number of files: \",FILE_COUNT)\n",
    "print(\"List of file extensions: \",FILE_EXT_LIST)\n",
    "print(\"Info written to CSV File : \", csv_file) "
   ]
  },
  {
   "cell_type": "code",
   "execution_count": 12,
   "id": "6ca53806-9d6b-4724-bc54-1c3b4188dcba",
   "metadata": {},
   "outputs": [
    {
     "data": {
      "text/html": [
       "<div>\n",
       "<style scoped>\n",
       "    .dataframe tbody tr th:only-of-type {\n",
       "        vertical-align: middle;\n",
       "    }\n",
       "\n",
       "    .dataframe tbody tr th {\n",
       "        vertical-align: top;\n",
       "    }\n",
       "\n",
       "    .dataframe thead th {\n",
       "        text-align: right;\n",
       "    }\n",
       "</style>\n",
       "<table border=\"1\" class=\"dataframe\">\n",
       "  <thead>\n",
       "    <tr style=\"text-align: right;\">\n",
       "      <th></th>\n",
       "      <th>extensions</th>\n",
       "      <th>count</th>\n",
       "    </tr>\n",
       "  </thead>\n",
       "  <tbody>\n",
       "    <tr>\n",
       "      <th>0</th>\n",
       "      <td>.jpg</td>\n",
       "      <td>184</td>\n",
       "    </tr>\n",
       "    <tr>\n",
       "      <th>1</th>\n",
       "      <td>.mp4</td>\n",
       "      <td>5</td>\n",
       "    </tr>\n",
       "  </tbody>\n",
       "</table>\n",
       "</div>"
      ],
      "text/plain": [
       "  extensions  count\n",
       "0       .jpg    184\n",
       "1       .mp4      5"
      ]
     },
     "execution_count": 12,
     "metadata": {},
     "output_type": "execute_result"
    }
   ],
   "source": [
    "from collections import Counter\n",
    "import pandas as pd\n",
    "filecount_by_ext = Counter(FILE_EXT_COUNTER)\n",
    "df = pd.DataFrame.from_records(list(dict(filecount_by_ext).items()), columns=['extensions','count'])\n",
    "df.sort_values(by=['count'],inplace=True, ascending=False)\n",
    "df.head()\n"
   ]
  },
  {
   "cell_type": "code",
   "execution_count": null,
   "id": "27defcce-b265-450f-8296-2fefca263e03",
   "metadata": {},
   "outputs": [],
   "source": []
  }
 ],
 "metadata": {
  "kernelspec": {
   "display_name": "rswarnka",
   "language": "python",
   "name": "rswarnka"
  },
  "language_info": {
   "codemirror_mode": {
    "name": "ipython",
    "version": 3
   },
   "file_extension": ".py",
   "mimetype": "text/x-python",
   "name": "python",
   "nbconvert_exporter": "python",
   "pygments_lexer": "ipython3",
   "version": "3.11.4"
  }
 },
 "nbformat": 4,
 "nbformat_minor": 5
}
