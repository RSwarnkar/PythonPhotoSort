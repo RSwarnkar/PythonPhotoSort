{
 "cells": [
  {
   "cell_type": "markdown",
   "id": "8a4c21e8-4ca5-4924-b11d-6210b2fb87e2",
   "metadata": {},
   "source": [
    "# 1. Process Files:\n"
   ]
  },
  {
   "cell_type": "markdown",
   "id": "6a2a1899-9475-47fa-b71e-f69db6597a0a",
   "metadata": {},
   "source": [
    "## [1.1] Read `configs.ini` :"
   ]
  },
  {
   "cell_type": "code",
   "execution_count": 10,
   "id": "c12ba2fc-9b32-4cc3-ba68-430b079ac40f",
   "metadata": {},
   "outputs": [],
   "source": [
    "import configparser\n",
    "config = configparser.ConfigParser()"
   ]
  },
  {
   "cell_type": "code",
   "execution_count": 11,
   "id": "5fca517b-ff37-4160-8b23-c6ea97a75b0d",
   "metadata": {},
   "outputs": [],
   "source": [
    "config.read('configs.ini')\n",
    "source_dir      = config['PROCESS']['source_dir']\n",
    "destination_dir = config['PROCESS']['destination_dir'] \n",
    "log_process_dir = config['PROCESS']['log_process_dir'] \n",
    "csv_process_dir = config['PROCESS']['csv_process_dir'] \n",
    "\n",
    "MASTER_REGEX_PHOTOS_1 = config['NOEDIT']['MASTER_REGEX_PHOTOS_1'] \n",
    "MASTER_REGEX_PHOTOS_2 = config['NOEDIT']['MASTER_REGEX_PHOTOS_2'] \n",
    "MASTER_REGEX_VIDEOS_1 = config['NOEDIT']['MASTER_REGEX_VIDEOS_1'] \n",
    "MASTER_REGEX_VIDEOS_2 = config['NOEDIT']['MASTER_REGEX_VIDEOS_2'] \n"
   ]
  },
  {
   "cell_type": "code",
   "execution_count": 14,
   "id": "4ad36cdc-beda-4b8a-8a20-c65ec8c8ac3c",
   "metadata": {},
   "outputs": [
    {
     "name": "stdout",
     "output_type": "stream",
     "text": [
      "Source Directory:  E:/R_PhotosVideos/R_Photos_Unsorted/Plain-11\n",
      "Destionation Directory:  E:/R_PhotosVideos/R_Photos_Sorted\n",
      "Log Directory:  E:/R_PhotosVideos/PythonPhotoSort/logs\n",
      "CSV Directory:  E:/R_PhotosVideos/PythonPhotoSort/logs\n"
     ]
    }
   ],
   "source": [
    "print(\"Source Directory: \",source_dir)\n",
    "print(\"Destionation Directory: \",destination_dir)\n",
    "print(\"Log Directory: \",log_process_dir)\n",
    "print(\"CSV Directory: \",csv_process_dir)\n"
   ]
  },
  {
   "cell_type": "code",
   "execution_count": 15,
   "id": "16c5f561-b7ad-47d6-ab03-368d0c883588",
   "metadata": {},
   "outputs": [
    {
     "name": "stdout",
     "output_type": "stream",
     "text": [
      "MASTER_REGEX_PHOTOS_1 :  ^[iImMgG]{3}[-_]([0-9]{8})[-_].*\\.(?:jpg|jpeg)$\n",
      "MASTER_REGEX_PHOTOS_2 :  ^[iImMgG]{3}([0-9]{8}).*\\.(?:jpg|jpeg)$\n",
      "MASTER_REGEX_VIDEOS_1 :  ^[VvIiDdvideo]{3,}[-_]([0-9]{8})[-_].*\\.(?:mp4)$\n",
      "MASTER_REGEX_VIDEOS_2 :  ^[VvIiDd]{3}([0-9]{8}).*\\.(?:mp4)$\n"
     ]
    }
   ],
   "source": [
    "print(\"MASTER_REGEX_PHOTOS_1 : \",MASTER_REGEX_PHOTOS_1)\n",
    "print(\"MASTER_REGEX_PHOTOS_2 : \",MASTER_REGEX_PHOTOS_2)\n",
    "print(\"MASTER_REGEX_VIDEOS_1 : \",MASTER_REGEX_VIDEOS_1)\n",
    "print(\"MASTER_REGEX_VIDEOS_2 : \",MASTER_REGEX_VIDEOS_2)"
   ]
  },
  {
   "cell_type": "markdown",
   "id": "c6338e39-7072-493c-a6ba-5f62f4e30ede",
   "metadata": {},
   "source": [
    "## [1.2] Process all Photos: "
   ]
  },
  {
   "cell_type": "code",
   "execution_count": 16,
   "id": "ce9543a8-9392-4085-b18c-cac510ef1065",
   "metadata": {},
   "outputs": [],
   "source": [
    "import re\n",
    "import os\n",
    "from datetime import datetime\n",
    "import shutil"
   ]
  },
  {
   "cell_type": "code",
   "execution_count": 17,
   "id": "17dff0ca-99ac-43af-9969-a5db91db39d2",
   "metadata": {},
   "outputs": [],
   "source": [
    "input_folder_path  = source_dir\n",
    "output_folder_path = destination_dir"
   ]
  },
  {
   "cell_type": "code",
   "execution_count": 26,
   "id": "4513eeed-61c9-4f61-adc9-4c98b285abcc",
   "metadata": {},
   "outputs": [
    {
     "name": "stdout",
     "output_type": "stream",
     "text": [
      "Log File:  E:/R_PhotosVideos/PythonPhotoSort/logs\\log-photos-20240519-160517.txt\n",
      "CSV File:  E:/R_PhotosVideos/PythonPhotoSort/logs\\photos-20240519-160517.csv\n"
     ]
    }
   ],
   "source": [
    "# Log file :\n",
    "temp     = \"log-photos-\" + datetime.now().strftime(\"%Y%m%d-%H%M%S\") + \".txt\"\n",
    "log_file = os.path.join(log_process_dir, temp)\n",
    "\n",
    "# Process CSV File: \n",
    "temp     = \"photos-\" + datetime.now().strftime(\"%Y%m%d-%H%M%S\") + \".csv\"\n",
    "csv_file = os.path.join(csv_process_dir, temp)\n",
    "\n",
    "print(\"Log File: \", log_file)\n",
    "print(\"CSV File: \", csv_file) "
   ]
  },
  {
   "cell_type": "code",
   "execution_count": 27,
   "id": "74a76837-06b7-4331-a870-d26abf4e3249",
   "metadata": {},
   "outputs": [],
   "source": [
    "FILE_COUNT = 0\n",
    "FILE_EXT_LIST = set([])\n",
    "FILE_EXT_COUNTER = []"
   ]
  },
  {
   "cell_type": "code",
   "execution_count": null,
   "id": "57e78d58-cc32-4f3c-b2b4-3b40bb243297",
   "metadata": {},
   "outputs": [],
   "source": [
    "csvfile_handle = open(csv_file, \"w\", encoding=\"utf-8\")\n",
    "csvfile_handle.write(\"Filename;Extension;Matched_Regex_Name;Extracted_Date;Path;Null\\n\")\n",
    "print()"
   ]
  },
  {
   "cell_type": "code",
   "execution_count": null,
   "id": "fadddf73-05cd-49e3-9951-c32293c631cf",
   "metadata": {},
   "outputs": [],
   "source": [
    "src = input_folder_path\n",
    "dst = output_folder_path\n",
    "\n",
    "# OS.walk() generate the file names in a directory tree (nested subfolders) by walking the tree either top-down or bottom-up.\n",
    "for root, subdirs, files in os.walk(src):\n",
    "    for file in files:\n",
    "        path = os.path.join(root, file)\n",
    "        \n",
    "        _filenameonly = file   # e.g. IMG_20150829_141244.jpg\n",
    "        _extension = os.path.splitext(file)[1] # e.g. jpg\n",
    "\n",
    "        matched_regex_name = \"None\"\n",
    "        _extracted_ts      = \"Null\" # extracted timestamp \n",
    "\n",
    "        ## Try matching against each regex listed in config.ini\n",
    "\n",
    "        m1 = re.search(r'{}'.format(MASTER_REGEX_PHOTOS_1), file)\n",
    "        if m1: \n",
    "            _extracted_ts = m1.group(1)\n",
    "            matched_regex_name = \"MASTER_REGEX_PHOTOS_1\"\n",
    "            \n",
    "        m2 = re.search(r'{}'.format(MASTER_REGEX_PHOTOS_2), file)\n",
    "        if m2: \n",
    "            _extracted_ts = m2.group(1)\n",
    "            matched_regex_name = \"MASTER_REGEX_PHOTOS_2\"\n",
    "\n",
    "        m3 = re.search(r'{}'.format(MASTER_REGEX_VIDEOS_1), file)\n",
    "        if m3: \n",
    "            _extracted_ts = m3.group(1)\n",
    "            matched_regex_name = \"MASTER_REGEX_VIDEOS_1\"\n",
    "\n",
    "        m4 = re.search(r'{}'.format(MASTER_REGEX_VIDEOS_2), file)\n",
    "        if m4: \n",
    "            _extracted_ts = m4.group(1)\n",
    "            matched_regex_name = \"MASTER_REGEX_VIDEOS_2\"\n",
    "\n",
    "        \n",
    "            \n",
    "        _fullfilepath = path   # e.g. H:/myfolder/IMG_20150829_141244.jpg\n",
    " \n",
    "        #  Filename;Extension;Matched_Regex_Name;Extracted_Date;Path;Null\\n\n",
    "        csv_line = _filenameonly + \";\" + _extension + \";\" + matched_regex_name + \";\" + \\\n",
    "                  _extracted_ts + \";\" + _fullfilepath + \";NOTHING;\\n\"\n",
    "        \n",
    "        csvfile_handle.write(csv_line)\n",
    "        \n",
    "        # Increment File Count\n",
    "        FILE_COUNT = FILE_COUNT+ 1\n",
    "        # Add file extension to set\n",
    "        FILE_EXT_LIST.add(_extension)\n",
    "        # Group counter\n",
    "        FILE_EXT_COUNTER.append(_extension)\n",
    " \n",
    "\n",
    "csvfile_handle.close()"
   ]
  }
 ],
 "metadata": {
  "kernelspec": {
   "display_name": "Python 3 (ipykernel)",
   "language": "python",
   "name": "python3"
  },
  "language_info": {
   "codemirror_mode": {
    "name": "ipython",
    "version": 3
   },
   "file_extension": ".py",
   "mimetype": "text/x-python",
   "name": "python",
   "nbconvert_exporter": "python",
   "pygments_lexer": "ipython3",
   "version": "3.11.4"
  }
 },
 "nbformat": 4,
 "nbformat_minor": 5
}
