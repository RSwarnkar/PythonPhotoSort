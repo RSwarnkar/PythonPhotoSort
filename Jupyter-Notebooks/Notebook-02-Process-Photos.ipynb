{
 "cells": [
  {
   "cell_type": "markdown",
   "id": "8a4c21e8-4ca5-4924-b11d-6210b2fb87e2",
   "metadata": {},
   "source": [
    "# 2. Process Photos:\n"
   ]
  },
  {
   "cell_type": "markdown",
   "id": "6a2a1899-9475-47fa-b71e-f69db6597a0a",
   "metadata": {},
   "source": [
    "## [2.1] Read `configs.ini` :"
   ]
  },
  {
   "cell_type": "code",
   "execution_count": 1,
   "id": "c12ba2fc-9b32-4cc3-ba68-430b079ac40f",
   "metadata": {},
   "outputs": [],
   "source": [
    "import json\n",
    "import configparser\n",
    "config = configparser.ConfigParser()"
   ]
  },
  {
   "cell_type": "code",
   "execution_count": 2,
   "id": "5fca517b-ff37-4160-8b23-c6ea97a75b0d",
   "metadata": {},
   "outputs": [],
   "source": [
    "config.read('configs.ini')\n",
    "source_dir      = config['PROCESS']['source_dir']\n",
    "destination_dir = config['PROCESS']['destination_dir'] \n",
    "log_process_dir = config['PROCESS']['log_process_dir'] \n",
    "csv_process_dir = config['PROCESS']['csv_process_dir']\n",
    "\n",
    "PROCESS_MOVE_PHOTOS = config['PROCESS']['PROCESS_MOVE_PHOTOS'] \n",
    "PROCESS_MOVE_VIDEOS = config['PROCESS']['PROCESS_MOVE_VIDEOS'] \n",
    "\n",
    "MASTER_REGEX_PHOTOS_1 = config['NOEDIT']['MASTER_REGEX_PHOTOS_1'] \n",
    "MASTER_REGEX_PHOTOS_2 = config['NOEDIT']['MASTER_REGEX_PHOTOS_2'] \n",
    "MASTER_REGEX_VIDEOS_1 = config['NOEDIT']['MASTER_REGEX_VIDEOS_1'] \n",
    "MASTER_REGEX_VIDEOS_2 = config['NOEDIT']['MASTER_REGEX_VIDEOS_2'] \n",
    "\n",
    "# Convert to Boolean: https://stackoverflow.com/a/13706457/1176573\n",
    "PROCESS_MOVE_PHOTOS = json.loads(PROCESS_MOVE_PHOTOS.lower())\n",
    "PROCESS_MOVE_VIDEOS = json.loads(PROCESS_MOVE_VIDEOS.lower())"
   ]
  },
  {
   "cell_type": "code",
   "execution_count": 3,
   "id": "4ad36cdc-beda-4b8a-8a20-c65ec8c8ac3c",
   "metadata": {},
   "outputs": [
    {
     "name": "stdout",
     "output_type": "stream",
     "text": [
      "Source Directory:  E:/R_PhotosVideos/R_Photos_Unsorted/Plain-11\n",
      "Destionation Directory:  E:/R_PhotosVideos/R_Photos_Sorted_Test\n",
      "Log Directory:  E:/R_PhotosVideos/PythonPhotoSort/logs\n",
      "CSV Directory:  E:/R_PhotosVideos/PythonPhotoSort/logs\n",
      "Should Photo files be moved? :  True\n",
      "Should Photo files be moved? :  True\n"
     ]
    }
   ],
   "source": [
    "print(\"Source Directory: \",source_dir)\n",
    "print(\"Destionation Directory: \",destination_dir)\n",
    "print(\"Log Directory: \",log_process_dir)\n",
    "print(\"CSV Directory: \",csv_process_dir)\n",
    "print(\"Should Photo files be moved? : \",PROCESS_MOVE_PHOTOS)\n",
    "print(\"Should Photo files be moved? : \",PROCESS_MOVE_VIDEOS)\n"
   ]
  },
  {
   "cell_type": "code",
   "execution_count": 4,
   "id": "16c5f561-b7ad-47d6-ab03-368d0c883588",
   "metadata": {},
   "outputs": [
    {
     "name": "stdout",
     "output_type": "stream",
     "text": [
      "MASTER_REGEX_PHOTOS_1 :  ^[iImMgG]{3}[-_]([0-9]{8})[-_].*\\.(?:jpg|jpeg)$\n",
      "MASTER_REGEX_PHOTOS_2 :  ^[iImMgG]{3}([0-9]{8}).*\\.(?:jpg|jpeg)$\n",
      "MASTER_REGEX_VIDEOS_1 :  ^[VvIiDdvideo]{3,}[-_]([0-9]{8})[-_].*\\.(?:mp4)$\n",
      "MASTER_REGEX_VIDEOS_2 :  ^[VvIiDd]{3}([0-9]{8}).*\\.(?:mp4)$\n"
     ]
    }
   ],
   "source": [
    "print(\"MASTER_REGEX_PHOTOS_1 : \",MASTER_REGEX_PHOTOS_1)\n",
    "print(\"MASTER_REGEX_PHOTOS_2 : \",MASTER_REGEX_PHOTOS_2)\n",
    "print(\"MASTER_REGEX_VIDEOS_1 : \",MASTER_REGEX_VIDEOS_1)\n",
    "print(\"MASTER_REGEX_VIDEOS_2 : \",MASTER_REGEX_VIDEOS_2)"
   ]
  },
  {
   "cell_type": "markdown",
   "id": "c6338e39-7072-493c-a6ba-5f62f4e30ede",
   "metadata": {},
   "source": [
    "## [2.2] Process all Photos: "
   ]
  },
  {
   "cell_type": "code",
   "execution_count": 5,
   "id": "ce9543a8-9392-4085-b18c-cac510ef1065",
   "metadata": {},
   "outputs": [],
   "source": [
    "import re\n",
    "import os\n",
    "from datetime import datetime\n",
    "import shutil\n",
    "import dateutil"
   ]
  },
  {
   "cell_type": "code",
   "execution_count": 6,
   "id": "17dff0ca-99ac-43af-9969-a5db91db39d2",
   "metadata": {},
   "outputs": [],
   "source": [
    "input_folder_path  = source_dir\n",
    "output_folder_path = destination_dir"
   ]
  },
  {
   "cell_type": "code",
   "execution_count": 7,
   "id": "4513eeed-61c9-4f61-adc9-4c98b285abcc",
   "metadata": {},
   "outputs": [
    {
     "name": "stdout",
     "output_type": "stream",
     "text": [
      "Log File:  E:/R_PhotosVideos/PythonPhotoSort/logs\\log-photos-20240520-104648.txt\n",
      "CSV File:  E:/R_PhotosVideos/PythonPhotoSort/logs\\photos-20240520-104648.csv\n"
     ]
    }
   ],
   "source": [
    "# Log file :\n",
    "temp     = \"log-photos-\" + datetime.now().strftime(\"%Y%m%d-%H%M%S\") + \".txt\"\n",
    "log_file = os.path.join(log_process_dir, temp)\n",
    "\n",
    "# Process CSV File: \n",
    "temp     = \"photos-\" + datetime.now().strftime(\"%Y%m%d-%H%M%S\") + \".csv\"\n",
    "csv_file = os.path.join(csv_process_dir, temp)\n",
    "\n",
    "print(\"Log File: \", log_file)\n",
    "print(\"CSV File: \", csv_file) "
   ]
  },
  {
   "cell_type": "code",
   "execution_count": 8,
   "id": "74a76837-06b7-4331-a870-d26abf4e3249",
   "metadata": {},
   "outputs": [],
   "source": [
    "FILE_COUNT = 0\n",
    "FILE_EXT_LIST = set([])\n",
    "FILE_EXT_COUNTER = []"
   ]
  },
  {
   "cell_type": "code",
   "execution_count": 9,
   "id": "fadddf73-05cd-49e3-9951-c32293c631cf",
   "metadata": {},
   "outputs": [],
   "source": [
    "src = input_folder_path\n",
    "dst = output_folder_path\n",
    "\n",
    "logfile_handle = open(log_file, \"w\")\n",
    "logfile_handle.write(\"================================\\nProcess Photos Execution Started\\n================================\\n\")\n",
    "\n",
    "csvfile_handle = open(csv_file, \"w\", encoding=\"utf-8\")\n",
    "csvfile_handle.write(\"Filename;Extension;Matched_Regex_Name;Extracted_Date;Source_Path;Destination_Path;IsDuplicate;MoveStatus;NOTHING;\\n\")\n",
    "\n",
    "# OS.walk() generate the file names in a directory tree (nested subfolders) by walking the tree either top-down or bottom-up.\n",
    "for root, subdirs, files in os.walk(src):\n",
    "    for file in files:\n",
    "        path = os.path.join(root, file)\n",
    "\n",
    "        _fullfilepath = path   # e.g. H:/myfolder/IMG_20150829_141244.jpg\n",
    "        _filenameonly = file   # e.g. IMG_20150829_141244.jpg\n",
    "        _extension = os.path.splitext(file)[1] # e.g. jpg\n",
    "\n",
    "        matched_regex_name = \"None\"\n",
    "        _extracted_ts      = \"Null\" # extracted timestamp \n",
    "\n",
    "        \n",
    "\n",
    "        logfile_handle.write(\"INFO: Checking File: \"+_filenameonly+\"\\n\")\n",
    "\n",
    "        ## Try matching against each regex listed in config.ini\n",
    "\n",
    "        m1 = re.search(r'{}'.format(MASTER_REGEX_PHOTOS_1), file)\n",
    "        if m1: \n",
    "            logfile_handle.write(\"INFO: Matched Regex: \"+matched_regex_name+\"\\n\")\n",
    "            _extracted_ts = m1.group(1)\n",
    "            matched_regex_name = \"MASTER_REGEX_PHOTOS_1\"\n",
    "            date_obj = dateutil.parser.parse(_extracted_ts)\n",
    "\n",
    "            # 2024 / 2024-12_(December) / 2024-December-25\n",
    "            create_new_folder = output_folder_path + \"/\" + \\\n",
    "             str( date_obj.strftime(\"%Y\") ) + \"/\" + \\\n",
    "             str( date_obj.strftime(\"%Y-%m_(%B)\") ) + \"/\" + \\\n",
    "             str( date_obj.strftime(\"%Y-%B-%d\") ) \n",
    "            \n",
    "            os.makedirs(create_new_folder, exist_ok=True)\n",
    "            logfile_handle.write(\"INFO: Folder Created: \"+create_new_folder+\"\\n\")\n",
    "\n",
    "            source_file      = _fullfilepath\n",
    "            destination_file = create_new_folder + \"/\" + _filenameonly\n",
    "\n",
    "            \n",
    "            if PROCESS_MOVE_PHOTOS:\n",
    "                try:\n",
    "                    dest = shutil.move(source_file, destination_file)\n",
    "                    # Logging\n",
    "                    logfile_handle.write(\"INFO: Flag value PROCESS_MOVE_PHOTOS: \"+str(PROCESS_MOVE_PHOTOS)+\"\\n\")\n",
    "                    logfile_handle.write(\"INFO: A File is MOVED From: \"+source_file+\" To File:\"+ destination_file +\"\\n\")\n",
    "                    # Csv Info\n",
    "                    csv_line = _filenameonly + \";\" + _extension + \";\" + matched_regex_name + \";\" + \\\n",
    "                    _extracted_ts + \";\" + source_file + \";\"+ destination_file +\";False;Success;NOTHING;\\n\"                    \n",
    "                    csvfile_handle.write(csv_line)\n",
    " \n",
    "                except shutil.SameFileError:\n",
    "                    # print(\"Source and destination represents the same file.\")\n",
    "                    logfile_handle.write(\"Duplicate File Found: \", filename + \", Source: \" + source_file +\", Destination: \" + destination_file + \"\\n\")\n",
    "                    ## Add the logic to add random string to the file name. \n",
    "                    ## This will not be implemented since this might create multiple files taking up space on disk\n",
    "                    ## Duplicate files has to be manually handled\n",
    "                    csv_line = _filenameonly + \";\" + _extension + \";\" + matched_regex_name + \";\" + \\\n",
    "                    _extracted_ts + \";\" + source_file + \";\"+ destination_file +\";True;Skipped;NOTHING;\\n\"                    \n",
    "                    csvfile_handle.write(csv_line)\n",
    "                      \n",
    "            \n",
    "        m2 = re.search(r'{}'.format(MASTER_REGEX_PHOTOS_2), file)\n",
    "        if m2: \n",
    "            logfile_handle.write(\"INFO: Matched Regex: \"+matched_regex_name+\"\\n\")\n",
    "            _extracted_ts = m2.group(1)\n",
    "            matched_regex_name = \"MASTER_REGEX_PHOTOS_2\"\n",
    "            date_obj = dateutil.parser.parse(_extracted_ts)\n",
    "\n",
    "            # 2024 / 2024-12_(December) / 2024-December-25\n",
    "            create_new_folder = output_folder_path + \"/\" + \\\n",
    "             str( date_obj.strftime(\"%Y\") ) + \"/\" + \\\n",
    "             str( date_obj.strftime(\"%Y-%m_(%B)\") ) + \"/\" + \\\n",
    "             str( date_obj.strftime(\"%Y-%B-%d\") ) \n",
    "            \n",
    "            os.makedirs(create_new_folder, exist_ok=True)\n",
    "            logfile_handle.write(\"INFO: Folder Created: \"+create_new_folder+\"\\n\")\n",
    "\n",
    "            source_file      = _fullfilepath\n",
    "            destination_file = create_new_folder + \"/\" + _filenameonly\n",
    "\n",
    "            \n",
    "            if PROCESS_MOVE_PHOTOS:\n",
    "                try:\n",
    "                    dest = shutil.move(source_file, destination_file)\n",
    "                    # Logging\n",
    "                    logfile_handle.write(\"INFO: Flag value PROCESS_MOVE_PHOTOS: \"+str(PROCESS_MOVE_PHOTOS)+\"\\n\")\n",
    "                    logfile_handle.write(\"INFO: A File is MOVED From: \"+source_file+\" To File:\"+ destination_file +\"\\n\")\n",
    "                    # Csv Info\n",
    "                    csv_line = _filenameonly + \";\" + _extension + \";\" + matched_regex_name + \";\" + \\\n",
    "                    _extracted_ts + \";\" + source_file + \";\"+ destination_file +\";False;Success;NOTHING;\\n\"                    \n",
    "                    csvfile_handle.write(csv_line)\n",
    "                except shutil.SameFileError:\n",
    "                    # print(\"Source and destination represents the same file.\")\n",
    "                    logfile_handle.write(\"Duplicate File Found: \", filename + \", Source: \" + source_file +\", Destination: \" + destination_file + \"\\n\")\n",
    "                    ## Add the logic to add random string to the file name. \n",
    "                    ## This will not be implemented since this might create multiple files taking up space on disk\n",
    "                    ## Duplicate files has to be manually handled \n",
    "                    csv_line = _filenameonly + \";\" + _extension + \";\" + matched_regex_name + \";\" + \\\n",
    "                    _extracted_ts + \";\" + source_file + \";\"+ destination_file +\";True;Skipped;NOTHING;\\n\"                    \n",
    "                    csvfile_handle.write(csv_line)\n",
    "   \n",
    "        #_fullfilepath = path   # e.g. H:/myfolder/IMG_20150829_141244.jpg\n",
    "\n",
    "        csv_line = _filenameonly + \";\" + _extension + \";\" + matched_regex_name + \";\" + \\\n",
    "                    _extracted_ts + \";\" + path + \";NULL;NULL;NULL;NOTHING;\\n\"\n",
    "        csvfile_handle.write(csv_line)\n",
    "\n",
    "        # Increment File Count\n",
    "        FILE_COUNT = FILE_COUNT+ 1\n",
    "        # Add file extension to set\n",
    "        FILE_EXT_LIST.add(_extension)\n",
    "        # Group counter\n",
    "        FILE_EXT_COUNTER.append(_extension)\n",
    " \n",
    "\n"
   ]
  },
  {
   "cell_type": "code",
   "execution_count": 10,
   "id": "17bd66c1-fbfe-42d6-ae93-7f0a6126489a",
   "metadata": {},
   "outputs": [],
   "source": [
    "csvfile_handle.close()\n",
    "logfile_handle.close()"
   ]
  },
  {
   "cell_type": "markdown",
   "id": "c0f1ec48-28f5-4688-a5f5-3c326b5af02a",
   "metadata": {},
   "source": [
    "## [2.3] Print Post-processing info: "
   ]
  },
  {
   "cell_type": "code",
   "execution_count": 11,
   "id": "03358570-8346-44b8-a2ec-884144431dba",
   "metadata": {},
   "outputs": [
    {
     "name": "stdout",
     "output_type": "stream",
     "text": [
      "Number of files:  188\n",
      "List of file extensions:  {'.jpg', '.mp4'}\n",
      "Info written to CSV File :  E:/R_PhotosVideos/PythonPhotoSort/logs\\photos-20240520-104648.csv\n"
     ]
    }
   ],
   "source": [
    "print(\"Number of files: \",FILE_COUNT)\n",
    "print(\"List of file extensions: \",FILE_EXT_LIST)\n",
    "print(\"Info written to CSV File : \", csv_file) "
   ]
  },
  {
   "cell_type": "code",
   "execution_count": 12,
   "id": "9df471dd-2747-42a5-adc5-8eccd1011ecb",
   "metadata": {},
   "outputs": [
    {
     "data": {
      "text/html": [
       "<div>\n",
       "<style scoped>\n",
       "    .dataframe tbody tr th:only-of-type {\n",
       "        vertical-align: middle;\n",
       "    }\n",
       "\n",
       "    .dataframe tbody tr th {\n",
       "        vertical-align: top;\n",
       "    }\n",
       "\n",
       "    .dataframe thead th {\n",
       "        text-align: right;\n",
       "    }\n",
       "</style>\n",
       "<table border=\"1\" class=\"dataframe\">\n",
       "  <thead>\n",
       "    <tr style=\"text-align: right;\">\n",
       "      <th></th>\n",
       "      <th>extensions</th>\n",
       "      <th>count</th>\n",
       "    </tr>\n",
       "  </thead>\n",
       "  <tbody>\n",
       "    <tr>\n",
       "      <th>0</th>\n",
       "      <td>.jpg</td>\n",
       "      <td>184</td>\n",
       "    </tr>\n",
       "    <tr>\n",
       "      <th>1</th>\n",
       "      <td>.mp4</td>\n",
       "      <td>4</td>\n",
       "    </tr>\n",
       "  </tbody>\n",
       "</table>\n",
       "</div>"
      ],
      "text/plain": [
       "  extensions  count\n",
       "0       .jpg    184\n",
       "1       .mp4      4"
      ]
     },
     "execution_count": 12,
     "metadata": {},
     "output_type": "execute_result"
    }
   ],
   "source": [
    "from collections import Counter\n",
    "import pandas as pd\n",
    "filecount_by_ext = Counter(FILE_EXT_COUNTER)\n",
    "df = pd.DataFrame.from_records(list(dict(filecount_by_ext).items()), columns=['extensions','count'])\n",
    "df.sort_values(by=['count'],inplace=True, ascending=False)\n",
    "df.head()\n"
   ]
  },
  {
   "cell_type": "code",
   "execution_count": null,
   "id": "cb8cd6a5-af24-45ed-bc0c-3859da59ebf0",
   "metadata": {},
   "outputs": [],
   "source": []
  }
 ],
 "metadata": {
  "kernelspec": {
   "display_name": "rswarnka",
   "language": "python",
   "name": "rswarnka"
  },
  "language_info": {
   "codemirror_mode": {
    "name": "ipython",
    "version": 3
   },
   "file_extension": ".py",
   "mimetype": "text/x-python",
   "name": "python",
   "nbconvert_exporter": "python",
   "pygments_lexer": "ipython3",
   "version": "3.11.4"
  }
 },
 "nbformat": 4,
 "nbformat_minor": 5
}
