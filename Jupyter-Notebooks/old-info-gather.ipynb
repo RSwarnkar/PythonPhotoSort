{
 "cells": [
  {
   "cell_type": "markdown",
   "id": "1d7fb9e6",
   "metadata": {},
   "source": [
    "## Gathering Information"
   ]
  },
  {
   "cell_type": "markdown",
   "id": "7d09d9de",
   "metadata": {},
   "source": [
    "All Input Sources: \n",
    "\n",
    "1. 7 Nested Sub Folders in `D:\\R006_Unsorted`\n",
    "2. 11 Nested Subfolder in `H:\\R-Local-DataStore\\programming\\sort-images-videos\\Output_Folder`. Note: **This is already sorted** so be very careful not to replace.  \n",
    "3. 1400 Files in `H:\\R-Local-DataStore\\programming\\sort-images-videos\\Input_Folder\\Camera`\n"
   ]
  },
  {
   "cell_type": "markdown",
   "id": "7aec8581",
   "metadata": {},
   "source": [
    "| CSV File    | Location  | Total Size | #Files\n",
    "|-------------|:--------------------------------|:-----------------:|:----|\n",
    "| info01.csv  | D:\\R006_Unsorted | 192 GB | 24728 | \n",
    "| info02.csv  | H:\\R-Local-DataStore\\programming\\sort-images-videos\\Output_Folder | 53.8 GB | 4954 |\n",
    "| info03.csv  | H:\\R-Local-DataStore\\programming\\sort-images-videos\\Input_Folder\\Camera| 12.7 GB | 1418 |\n",
    "| TOTAL | - | 259 GB | 31100 |"
   ]
  },
  {
   "cell_type": "code",
   "execution_count": 1,
   "id": "f18793a5",
   "metadata": {},
   "outputs": [],
   "source": [
    "import re\n",
    "import os\n",
    "from datetime import datetime\n",
    "import shutil"
   ]
  },
  {
   "cell_type": "code",
   "execution_count": 2,
   "id": "93afff63",
   "metadata": {},
   "outputs": [],
   "source": [
    "input_folder_path  = \"D:/R_Images/R006_Unsorted/\"\n",
    "output_folder_path = \"D:/R_Images/R006_All_Photos/\"  \n",
    "csv_file           =  \"D:/R_Images/R006_All_Photos/info01.csv\" \n",
    "\n",
    "\n",
    "input_folder_path  = \"H:/R-Local-DataStore/programming/sort-images-videos/Output_Folder/\"\n",
    "output_folder_path = \"D:/R_Images/R006_All_Photos/\"  \n",
    "csv_file           =  \"D:/R_Images/R006_All_Photos/info02.csv\" \n",
    "\n",
    "\n",
    "input_folder_path  = \"H:/R-Local-DataStore/programming/sort-images-videos/Input_Folder/Camera/\"\n",
    "output_folder_path = \"D:/R_Images/R006_All_Photos/\"  \n",
    "csv_file           =  \"D:/R_Images/R006_All_Photos/info03.csv\" \n"
   ]
  },
  {
   "cell_type": "code",
   "execution_count": 3,
   "id": "f9a318d0",
   "metadata": {},
   "outputs": [
    {
     "data": {
      "text/plain": [
       "70"
      ]
     },
     "execution_count": 3,
     "metadata": {},
     "output_type": "execute_result"
    }
   ],
   "source": [
    "# open csv\n",
    "csvfile_handle = open(csv_file, \"w\", encoding=\"utf-8\")\n",
    "csvfile_handle.write(\"Filename;Extension;Filename TS-Regex Compliant;Extracted TS;Path;Null\\n\")\n"
   ]
  },
  {
   "cell_type": "code",
   "execution_count": 4,
   "id": "0ac657ee",
   "metadata": {},
   "outputs": [],
   "source": [
    "src = input_folder_path\n",
    "dst = output_folder_path\n",
    "\n",
    "for root, subdirs, files in os.walk(src):\n",
    "    for file in files:\n",
    "        path = os.path.join(root, file)\n",
    "        \n",
    "        _filenameonly = file   # e.g. IMG_20150829_141244.jpg\n",
    "        _extension = os.path.splitext(file)[1] # e.g. jpg\n",
    "\n",
    "        _ts_regex_compliant_flag = False\n",
    "        \n",
    "        _extracted_ts = \"Null\"\n",
    "\n",
    "        m = re.search(r'^[iImMgG]{3}[-_]([0-9]{8})[-_].*\\.(?:jpg|jpeg)$', file)\n",
    "        if m: \n",
    "            _extracted_ts = m.group(1)\n",
    "            _ts_regex_compliant_flag = True\n",
    "            \n",
    "        _fullfilepath = path   # e.g. H:/myfolder/IMG_20150829_141244.jpg\n",
    "        \n",
    "        # Filename;Extension;Filename TS-Regex Compliant;Extracted TS;Path\\n\n",
    "        csv_line = _filenameonly + \";\" + _extension + \";\" + str(_ts_regex_compliant_flag) + \";\" + \\\n",
    "                  _extracted_ts + \";\" + _fullfilepath + \";NOTHING;\\n\"\n",
    "        \n",
    "        csvfile_handle.write(csv_line)\n",
    "        \n",
    "\n",
    "csvfile_handle.close()"
   ]
  },
  {
   "cell_type": "markdown",
   "id": "12b5072d",
   "metadata": {},
   "source": [
    "## Duplicacy Detection on File Movement:"
   ]
  },
  {
   "cell_type": "code",
   "execution_count": 5,
   "id": "fd8526d3",
   "metadata": {},
   "outputs": [],
   "source": [
    "import re\n",
    "import os\n",
    "from datetime import datetime\n",
    "import shutil"
   ]
  },
  {
   "cell_type": "code",
   "execution_count": 6,
   "id": "d0f62855",
   "metadata": {},
   "outputs": [],
   "source": [
    "input_folder_path  = \"H:/R-Local-DataStore/programming/sort-images-videos/Output_Folder/\"\n",
    "input_folder_path  = \"D:/R_Images/R006_Unsorted/\"\n",
    "\n",
    "output_folder_path = \"D:/R_Images/R006_All_Photos/\"  \n",
    "csv_file           = \"D:/R_Images/DataGathered/info-duplicates.csv\" \n"
   ]
  },
  {
   "cell_type": "code",
   "execution_count": 7,
   "id": "9bd8201d",
   "metadata": {},
   "outputs": [
    {
     "data": {
      "text/plain": [
       "98"
      ]
     },
     "execution_count": 7,
     "metadata": {},
     "output_type": "execute_result"
    }
   ],
   "source": [
    "# open csv\n",
    "csvfile_handle = open(csv_file, \"w\", encoding=\"utf-8\")\n",
    "csvfile_handle.write(\"Filename;Media Type;Extension;Source Path;Destination Path;Duplicate On Dest;OpStatus;Parsed Date;NOTHING;\\n\")\n"
   ]
  },
  {
   "cell_type": "markdown",
   "id": "0868bc88",
   "metadata": {},
   "source": [
    "Algorithm: \n",
    "\n",
    "\n",
    "1. AUDIO\n",
    "   - Since audio files are less in amount, I need to move them to a fixed location after \"duplicate handling at destination\"\n",
    "   - `X:/new_hdd/main_folder/AUDIO/`\n",
    "   \n",
    "2. OTHER_BIN\n",
    "   - Since these files are less in numbers and less important, I need to move them to a location where I can manually \\\n",
    "     verify and later take appropriate action on these. Need to do \"duplicate handling at destination\"\n",
    "   - `X:/new_hdd/main_folder/ALL-OTHER-FILES/`\n",
    "   \n",
    "3. IMG_OTHER\n",
    "   - Since these files are about 5-10% in numbers could be important, I need to move them to a location after manual     verification. Need to do \"duplicate handling at destination\"\n",
    "   - `X:/new_hdd/main_folder/OTHER-IMAGES/`\n",
    "\n",
    "4. PHOTO\n",
    "   - These files the main files of this automation: _Elephant in the room_\n",
    "   - First check if these have timestamp in their file names\n",
    "   - If yes, then create subfolders: ` YYYY --> YYYY-MONTHNAME --> YYYY-MM-DD ` \n",
    "   - Check if the files already exist then append some random string at the end before moving\n",
    "   - `X:/new_hdd/main_folder/PHOTOS-AND-VIDEOS/`\n",
    "   - NEED ADDITIONAL DUPLICACY REMOVER SOFTWARE. This is just to be double safe i.e. if files names are same but picture is different.  \n",
    "   - If timestamp is not available, need to move these files to suitable temp review directory after doing duplicacy handling\n",
    "   - Review this tem folder and manually take actions.\n",
    "   - `X:/new_hdd/main_folder/PHOTOS-AND-VIDEOS-Need-Review/`\n",
    "\n",
    "5. VIDEO\n",
    "   - Follow same procedure as done for Photos: _Giraffe in the room_\n",
    "\n",
    "6. ALL_UKNOWN_EXT\n",
    "   - Since these files are less in numbers and less important, I need to move them to a location where I can manually \\\n",
    "     verify and later take appropriate action on these. Need to do \"duplicate handling at destination\"\n",
    "   - `X:/new_hdd/main_folder/ALL-OTHER-FILES/`\n"
   ]
  },
  {
   "cell_type": "code",
   "execution_count": 8,
   "id": "c2743249",
   "metadata": {},
   "outputs": [],
   "source": [
    "src = input_folder_path\n",
    "dst = output_folder_path\n",
    "\n",
    "\n",
    "## STATIC LIST of Extensions\n",
    "AUDIO     = ['.m4a', '.mpa', '.opus', '.amr', '.3gp', '.aac', '.mp3', '.wav']\n",
    "OTHER_BIN = ['.txt', '.ini', '.html', '.db', '.kmz']\n",
    "IMG_OTHER = ['.bmp', '.png', '.gif']\n",
    "\n",
    "PHOTO    = ['.jpg', '.jpeg']\n",
    "VIDEO     = ['.mp4', '.MOV', '.avi', '.h264', '.VOB', '.3gpp']\n",
    "\n",
    "ALL_KNOWN_EXT = AUDIO + OTHER_BIN + IMG_OTHER + PHOTO + VIDEO\n",
    "\n",
    "## Locations to be moved to\n",
    "\n",
    "\n",
    "LOC_AUDIO = r'D:\\R_Images\\R007_TestDest\\AUDIO'\n",
    "LOC_PHOTOS_AND_VIDEOS = r'D:\\R_Images\\R007_TestDest\\PHOTOS-AND-VIDEOS'\n",
    "LOC_PHOTOS_AND_VIDEOS_REVIEW = r'D:\\R_Images\\R007_TestDest\\PHOTOS-AND-VIDEOS-Need-Review'\n",
    "LOC_OTHER_IMAGES = r'D:\\R_Images\\R007_TestDest\\OTHER-IMAGES'\n",
    "LOC_ALL_OTHER_FILES = r'D:\\R_Images\\R007_TestDest\\ALL-OTHER-FILES'\n",
    "        \n",
    "\n",
    "for root, subdirs, files in os.walk(src):\n",
    "    for file in files:\n",
    "        path = os.path.join(root, file)\n",
    "        \n",
    "        _filenameonly = file   # e.g. IMG_20150829_141244.jpg\n",
    "        _sourcepath = path   # e.g. H:/myfolder/IMG_20150829_141244.jpg\n",
    "        \n",
    "        _extension = os.path.splitext(file)[1] # e.g. jpg\n",
    "        \n",
    "        _destinationpath = \"Null\"\n",
    "        _duplicate_on_dest = False\n",
    "        _parsed_date = \"Null\"\n",
    "        _media_type = \"Null\"\n",
    "        _op_status = \"Null\"\n",
    "        \n",
    "        \n",
    "        ################ PROCESS AUDIO FILES ################\n",
    "        # Since we have less number of audio files we will process these first\n",
    "        # AUDIO: .m4a, .mpa, .opus, .amr, .3gp, .aac, .mp3, .wav\n",
    "        \n",
    "        ################ PROCESS OTHER FILEFORMATS ################\n",
    "        # OTHER FILEFORMATS: .txt, .ini, .html, .db, .kmz\n",
    "        \n",
    "        ################ PROCESS OTHER IMAGE FORMATS ################\n",
    "        # IMAGES OTHER: .bmp, .png, .gif\n",
    "        \n",
    "        if _extension in AUDIO:\n",
    "            _media_type = \"AUDIO\"\n",
    "            # Move all detected files to: X:/new_hdd/main_folder/AUDIO/ after duplicacy check\n",
    "            try:\n",
    "                shutil.copy(source, destination)\n",
    "                # If source and destination are same\n",
    "            except shutil.SameFileError:\n",
    "                print(\"Source and destination represents the same file.\")\n",
    " \n",
    " \n",
    "# For other errors\n",
    "except:\n",
    "    print(\"Error occurred while copying file.\")\n",
    "\n",
    "        if _extension in OTHER_BIN:\n",
    "            _media_type = \"OTHER\"\n",
    "            # Move all detected files to: X:/new_hdd/main_folder/ALL-OTHER-FILES/ after duplicacy check\n",
    "            \n",
    "        if _extension in IMG_OTHER:\n",
    "            _media_type = \"IMAGE\"\n",
    "            # Move all detected files to: X:/new_hdd/main_folder/OTHER-IMAGES/ after duplicacy check\n",
    "            \n",
    "            \n",
    "        ################ PROCESS PHOTOS - Elephant in the room ################\n",
    "        # PHOTOS: .jpg, .jpeg\n",
    "        \n",
    "        if _extension in PHOTO:\n",
    "            _media_type = \"PHOTO\"\n",
    "            m = re.search(r'^[A-Za-z]{1,}[-_]([0-9]{8})[-_].*$', _filenameonly)\n",
    "            if m: \n",
    "                _parsed_date = m.group(1)\n",
    "                _parsed_date = \"'\"+_parsed_date\n",
    "                ## create subfolders: YYYY --> YYYY-MONTHNAME --> YYYY-MM-DD \n",
    "                ## X:/new_hdd/main_folder/PHOTOS-AND-VIDEOS/ \n",
    "                ## In case of duplicacy, rename the file and then move\n",
    "            else: \n",
    "                ## If timestamp is not available, need to move these files to suitable temp review directory\n",
    "                ## after doing duplicacy handling. Review this temp folder and manually take actions\n",
    "                ## X:/new_hdd/main_folder/PHOTOS-AND-VIDEOS-Need-Review/\n",
    "                \n",
    "            \n",
    "        ################ PROCESS PHOTOS - Giraffe in the room ################\n",
    "        # VIDEO: .mp4, .MOV, .avi, .h264, .VOB, .3gpp\n",
    "        if _extension in VIDEO:\n",
    "            _media_type = \"VIDEO\"\n",
    "            m = re.search(r'^[A-Za-z]{1,}[-_]([0-9]{8})[-_].*$', _filenameonly)\n",
    "            if m: \n",
    "                _parsed_date = m.group(1)\n",
    "                _parsed_date = \"'\"+_parsed_date\n",
    "                ## create subfolders: YYYY --> YYYY-MONTHNAME --> YYYY-MM-DD \n",
    "                ## X:/new_hdd/main_folder/PHOTOS-AND-VIDEOS/ \n",
    "                ## In case of duplicacy, rename the file and then move\n",
    "            else: \n",
    "                ## If timestamp is not available, need to move these files to suitable temp review directory\n",
    "                ## after doing duplicacy handling. Review this temp folder and manually take actions\n",
    "                ## X:/new_hdd/main_folder/PHOTOS-AND-VIDEOS-Need-Review/\n",
    "        \n",
    "        ################ PROCESS ALL OTHER ################\n",
    "        if _extension not in ALL_KNOWN_EXT:\n",
    "            _media_type = \"OTHER\"\n",
    "             # Move all detected files to: X:/new_hdd/main_folder/ALL-OTHER-FILES/ after duplicacy check\n",
    "                        \n",
    "        \n",
    "        # Filename;Extension;Filename TS-Regex Compliant;Extracted TS;Path\\n\n",
    "        csv_line = _filenameonly + \";\" + _media_type + \";\" + _extension + \";\" + _sourcepath + \";\" + \\\n",
    "                  _destinationpath + \";\" + str(_duplicate_on_dest) + \";'\" + _parsed_date + \";NULL;\\n\"\n",
    "        \n",
    "        csvfile_handle.write(csv_line)\n",
    "        \n",
    "\n",
    "csvfile_handle.close()\n",
    "print(\"Done\")"
   ]
  },
  {
   "cell_type": "code",
   "execution_count": null,
   "id": "b1241159",
   "metadata": {},
   "outputs": [],
   "source": [
    "try:\n",
    "    shutil.copy(source, destination)\n",
    "    print(\"File copied successfully.\")\n",
    " \n",
    "# If source and destination are same\n",
    "except shutil.SameFileError:\n",
    "    print(\"Source and destination represents the same file.\")\n",
    " \n",
    " \n",
    "# For other errors\n",
    "except:\n",
    "    print(\"Error occurred while copying file.\")"
   ]
  }
 ],
 "metadata": {
  "kernelspec": {
   "display_name": "Python 3 (ipykernel)",
   "language": "python",
   "name": "python3"
  },
  "language_info": {
   "codemirror_mode": {
    "name": "ipython",
    "version": 3
   },
   "file_extension": ".py",
   "mimetype": "text/x-python",
   "name": "python",
   "nbconvert_exporter": "python",
   "pygments_lexer": "ipython3",
   "version": "3.11.4"
  }
 },
 "nbformat": 4,
 "nbformat_minor": 5
}
