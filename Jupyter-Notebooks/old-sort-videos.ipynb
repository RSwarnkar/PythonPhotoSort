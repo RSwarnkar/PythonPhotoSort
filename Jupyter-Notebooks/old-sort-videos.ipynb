{
 "cells": [
  {
   "cell_type": "code",
   "execution_count": 1,
   "metadata": {},
   "outputs": [],
   "source": [
    "import re\n",
    "import os\n",
    "from datetime import datetime\n",
    "import shutil "
   ]
  },
  {
   "cell_type": "code",
   "execution_count": 2,
   "metadata": {},
   "outputs": [],
   "source": [
    "#Source Folder\n",
    "\n",
    "input_folder_path = \"H:/R-Local-DataStore/programming/sort-images-videos/Input_Folder/Camera/\"\n",
    "output_folder_path = \"H:/R-Local-DataStore/programming/sort-images-videos/Output_Folder/\"    \n",
    "\n",
    "logfile = \"H:/R-Local-DataStore/programming/sort-images-videos/logs/logs-vid.txt\"\n",
    "    "
   ]
  },
  {
   "cell_type": "code",
   "execution_count": 3,
   "metadata": {},
   "outputs": [
    {
     "name": "stdout",
     "output_type": "stream",
     "text": [
      "Number of Files in Input Folder:  65\n"
     ]
    }
   ],
   "source": [
    "list_of_filenames = os.listdir(input_folder_path)\n",
    "print(\"Number of Files in Input Folder: \",len(list_of_filenames))"
   ]
  },
  {
   "cell_type": "code",
   "execution_count": 4,
   "metadata": {},
   "outputs": [],
   "source": [
    "logfile_handle = open(logfile, \"w\")\n",
    "i = 0\n",
    "\n",
    "for filename in list_of_filenames:\n",
    "    m = re.search(r'^[VvIiDdvideo]{3,}[-_]([0-9]{8})[-_].*\\.(?:mp4)$', list_of_filenames[i])\n",
    "    if m:\n",
    "        date_text = m.group(1)\n",
    "        #logfile_handle.write(filename + \" ====> \" +  date_text +\"\\n\")\n",
    "        \n",
    "        date_time_obj = datetime.strptime(date_text, '%Y%m%d')\n",
    "        create_new_folder = output_folder_path+str(date_time_obj.strftime(\"%Y\"))+\"/\" + str(date_time_obj.strftime(\"%Y%m-%B\")) + \"/\" + str(date_time_obj.strftime(\"%Y-%B-%d\")) + \"/\"\n",
    "\n",
    "        os.makedirs(create_new_folder, exist_ok=True)\n",
    "\n",
    "        source_file = input_folder_path + filename\n",
    "        destination_file = create_new_folder + filename\n",
    "        \n",
    "        logfile_handle.write(filename + \",\" + source_file +\",\" + destination_file + \"\\n\")\n",
    "        \n",
    "        dest = shutil.move(source_file, destination_file) \n",
    "\n",
    "        \n",
    "    else:\n",
    "        logfile_handle.write(filename + \" ====> REGEX_NOT_FOUND\\n\")\n",
    "\n",
    "    i=i+1\n",
    " \n",
    "logfile_handle.close()"
   ]
  },
  {
   "cell_type": "code",
   "execution_count": null,
   "metadata": {},
   "outputs": [],
   "source": []
  }
 ],
 "metadata": {
  "kernelspec": {
   "display_name": "Python 3 (ipykernel)",
   "language": "python",
   "name": "python3"
  },
  "language_info": {
   "codemirror_mode": {
    "name": "ipython",
    "version": 3
   },
   "file_extension": ".py",
   "mimetype": "text/x-python",
   "name": "python",
   "nbconvert_exporter": "python",
   "pygments_lexer": "ipython3",
   "version": "3.11.4"
  }
 },
 "nbformat": 4,
 "nbformat_minor": 4
}
